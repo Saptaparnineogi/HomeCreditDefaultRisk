{
  "nbformat": 4,
  "nbformat_minor": 0,
  "metadata": {
    "colab": {
      "name": "Untitled3.ipynb",
      "provenance": []
    },
    "kernelspec": {
      "name": "python3",
      "display_name": "Python 3"
    }
  },
  "cells": [
    {
      "cell_type": "code",
      "metadata": {
        "id": "-ncfaeuILvcM",
        "colab_type": "code",
        "colab": {
          "base_uri": "https://localhost:8080/",
          "height": 35
        },
        "outputId": "8b6d1b0b-2c1c-4c7a-8822-422b6f5b6e6b"
      },
      "source": [
        "import pandas as pd\n",
        "import matplotlib.pyplot as plt\n",
        "import warnings\n",
        "warnings.filterwarnings('ignore')\n",
        "import numpy as np\n",
        "from datetime import timedelta\n",
        "import seaborn as sns"
      ],
      "execution_count": 36,
      "outputs": [
        {
          "output_type": "stream",
          "text": [
            "Drive already mounted at /content/drive; to attempt to forcibly remount, call drive.mount(\"/content/drive\", force_remount=True).\n"
          ],
          "name": "stdout"
        }
      ]
    },
    {
      "cell_type": "markdown",
      "metadata": {
        "id": "8XqII8CIsaRQ",
        "colab_type": "text"
      },
      "source": [
        "# Load Data"
      ]
    },
    {
      "cell_type": "code",
      "metadata": {
        "id": "DBuJigvZRKIw",
        "colab_type": "code",
        "colab": {}
      },
      "source": [
        "train_df = pd.read_csv('/dataset/application_train.csv')\n",
        "test_df= pd.read_csv('/dataset/application_test.csv')\n",
        "bureau_df = pd.read_csv('/dataset/bureau.csv')\n",
        "bureau_bal_df = pd.read_csv('/dataset/bureau_balance.csv')\n",
        "pos_cash_bal_df= pd.read_csv('/dataset/POS_CASH_balance.csv')\n",
        "cr_card_bal_df = pd.read_csv('/dataset/credit_card_balance.csv')\n",
        "prev_app_df = pd.read_csv('/dataset/previous_application.csv')\n",
        "installments_pay_df = pd.read_csv('/dataset/installments_payments.csv')"
      ],
      "execution_count": 38,
      "outputs": []
    },
    {
      "cell_type": "code",
      "metadata": {
        "id": "wAE7fIBtRJ_q",
        "colab_type": "code",
        "colab": {
          "base_uri": "https://localhost:8080/",
          "height": 215
        },
        "outputId": "fc680031-3bef-4c7c-e8c4-dcf5b67bb16b"
      },
      "source": [
        "print('------------main------------')\n",
        "print('application_train:', train_df.shape[0], \"rows and\", train_df.shape[1],'columns')\n",
        "print('application_test:', test_df.shape[0], \"rows and\", test_df.shape[1],'columns')\n",
        "print('      ')\n",
        "print('------------others------------')\n",
        "print('POS_CASH_balance:', pos_cash_bal_df.shape[0], \"rows and\", pos_cash_bal_df.shape[1],'columns')\n",
        "print('bureau:', bureau_df.shape[0], \"rows and\", bureau_df.shape[1],'columns')\n",
        "print('bureau_balance:', bureau_bal_df.shape[0], \"rows and\", bureau_bal_df.shape[1],'columns')\n",
        "print('previous_application:', prev_app_df.shape[0], \"rows and\", prev_app_df.shape[1],'columns')\n",
        "print('installments_payments:', installments_pay_df.shape[0], \"rows and\", installments_pay_df.shape[1],'columns')\n",
        "print('credit_card_balance:', cr_card_bal_df.shape[0], \"rows and\", cr_card_bal_df.shape[1],'columns')\n"
      ],
      "execution_count": 39,
      "outputs": [
        {
          "output_type": "stream",
          "text": [
            "------------main------------\n",
            "application_train: 307511 rows and 122 columns\n",
            "application_test: 48744 rows and 121 columns\n",
            "      \n",
            "------------others------------\n",
            "POS_CASH_balance: 10001358 rows and 8 columns\n",
            "bureau: 1716428 rows and 17 columns\n",
            "bureau_balance: 27299925 rows and 3 columns\n",
            "previous_application: 1670214 rows and 37 columns\n",
            "installments_payments: 13605401 rows and 8 columns\n",
            "credit_card_balance: 3840312 rows and 23 columns\n"
          ],
          "name": "stdout"
        }
      ]
    },
    {
      "cell_type": "markdown",
      "metadata": {
        "id": "06jTR_ZNspPo",
        "colab_type": "text"
      },
      "source": [
        "# Check Data - Find missing values etc"
      ]
    },
    {
      "cell_type": "code",
      "metadata": {
        "id": "sZ4uHGDEsn8X",
        "colab_type": "code",
        "colab": {
          "base_uri": "https://localhost:8080/",
          "height": 421
        },
        "outputId": "b75581e2-87c0-4e37-98b6-cf74ae80ceff"
      },
      "source": [
        "def find_missing_entry(data):\n",
        "  '''\n",
        "  This function finds number and percentage of missing values in the dataframes\n",
        "  -----------------------------------------------------------------------------\n",
        "  data: input dataframe\n",
        "  return: dataframe with count and percentage of missing values\n",
        "  '''\n",
        "\n",
        "  count_missing = data.isnull().sum().values\n",
        "  total = data.shape[0]\n",
        "  ratio_missing = count_missing/total\n",
        "  # return a dataframe to show: feature name, # of missing and % of missing\n",
        "  return pd.DataFrame(data={'missing_count':count_missing, 'missing_ratio':ratio_missing}, index=data.columns.values)\n",
        "\n",
        "find_missing_entry(train_df).sort_values(by='missing_count', ascending=False).head(12)"
      ],
      "execution_count": 40,
      "outputs": [
        {
          "output_type": "execute_result",
          "data": {
            "text/html": [
              "<div>\n",
              "<style scoped>\n",
              "    .dataframe tbody tr th:only-of-type {\n",
              "        vertical-align: middle;\n",
              "    }\n",
              "\n",
              "    .dataframe tbody tr th {\n",
              "        vertical-align: top;\n",
              "    }\n",
              "\n",
              "    .dataframe thead th {\n",
              "        text-align: right;\n",
              "    }\n",
              "</style>\n",
              "<table border=\"1\" class=\"dataframe\">\n",
              "  <thead>\n",
              "    <tr style=\"text-align: right;\">\n",
              "      <th></th>\n",
              "      <th>missing_count</th>\n",
              "      <th>missing_ratio</th>\n",
              "    </tr>\n",
              "  </thead>\n",
              "  <tbody>\n",
              "    <tr>\n",
              "      <th>COMMONAREA_MEDI</th>\n",
              "      <td>214865</td>\n",
              "      <td>0.698723</td>\n",
              "    </tr>\n",
              "    <tr>\n",
              "      <th>COMMONAREA_AVG</th>\n",
              "      <td>214865</td>\n",
              "      <td>0.698723</td>\n",
              "    </tr>\n",
              "    <tr>\n",
              "      <th>COMMONAREA_MODE</th>\n",
              "      <td>214865</td>\n",
              "      <td>0.698723</td>\n",
              "    </tr>\n",
              "    <tr>\n",
              "      <th>NONLIVINGAPARTMENTS_MODE</th>\n",
              "      <td>213514</td>\n",
              "      <td>0.694330</td>\n",
              "    </tr>\n",
              "    <tr>\n",
              "      <th>NONLIVINGAPARTMENTS_AVG</th>\n",
              "      <td>213514</td>\n",
              "      <td>0.694330</td>\n",
              "    </tr>\n",
              "    <tr>\n",
              "      <th>NONLIVINGAPARTMENTS_MEDI</th>\n",
              "      <td>213514</td>\n",
              "      <td>0.694330</td>\n",
              "    </tr>\n",
              "    <tr>\n",
              "      <th>FONDKAPREMONT_MODE</th>\n",
              "      <td>210295</td>\n",
              "      <td>0.683862</td>\n",
              "    </tr>\n",
              "    <tr>\n",
              "      <th>LIVINGAPARTMENTS_MODE</th>\n",
              "      <td>210199</td>\n",
              "      <td>0.683550</td>\n",
              "    </tr>\n",
              "    <tr>\n",
              "      <th>LIVINGAPARTMENTS_AVG</th>\n",
              "      <td>210199</td>\n",
              "      <td>0.683550</td>\n",
              "    </tr>\n",
              "    <tr>\n",
              "      <th>LIVINGAPARTMENTS_MEDI</th>\n",
              "      <td>210199</td>\n",
              "      <td>0.683550</td>\n",
              "    </tr>\n",
              "    <tr>\n",
              "      <th>FLOORSMIN_AVG</th>\n",
              "      <td>208642</td>\n",
              "      <td>0.678486</td>\n",
              "    </tr>\n",
              "    <tr>\n",
              "      <th>FLOORSMIN_MODE</th>\n",
              "      <td>208642</td>\n",
              "      <td>0.678486</td>\n",
              "    </tr>\n",
              "  </tbody>\n",
              "</table>\n",
              "</div>"
            ],
            "text/plain": [
              "                          missing_count  missing_ratio\n",
              "COMMONAREA_MEDI                  214865       0.698723\n",
              "COMMONAREA_AVG                   214865       0.698723\n",
              "COMMONAREA_MODE                  214865       0.698723\n",
              "NONLIVINGAPARTMENTS_MODE         213514       0.694330\n",
              "NONLIVINGAPARTMENTS_AVG          213514       0.694330\n",
              "NONLIVINGAPARTMENTS_MEDI         213514       0.694330\n",
              "FONDKAPREMONT_MODE               210295       0.683862\n",
              "LIVINGAPARTMENTS_MODE            210199       0.683550\n",
              "LIVINGAPARTMENTS_AVG             210199       0.683550\n",
              "LIVINGAPARTMENTS_MEDI            210199       0.683550\n",
              "FLOORSMIN_AVG                    208642       0.678486\n",
              "FLOORSMIN_MODE                   208642       0.678486"
            ]
          },
          "metadata": {
            "tags": []
          },
          "execution_count": 40
        }
      ]
    },
    {
      "cell_type": "code",
      "metadata": {
        "id": "Xaw7Hxz5uM-o",
        "colab_type": "code",
        "colab": {
          "base_uri": "https://localhost:8080/",
          "height": 204
        },
        "outputId": "6762c98b-9b54-4dc2-b09b-6052025d96b4"
      },
      "source": [
        "find_missing_entry(pos_cash_bal_df).sort_values(by='missing_count', ascending=False).head()"
      ],
      "execution_count": 41,
      "outputs": [
        {
          "output_type": "execute_result",
          "data": {
            "text/html": [
              "<div>\n",
              "<style scoped>\n",
              "    .dataframe tbody tr th:only-of-type {\n",
              "        vertical-align: middle;\n",
              "    }\n",
              "\n",
              "    .dataframe tbody tr th {\n",
              "        vertical-align: top;\n",
              "    }\n",
              "\n",
              "    .dataframe thead th {\n",
              "        text-align: right;\n",
              "    }\n",
              "</style>\n",
              "<table border=\"1\" class=\"dataframe\">\n",
              "  <thead>\n",
              "    <tr style=\"text-align: right;\">\n",
              "      <th></th>\n",
              "      <th>missing_count</th>\n",
              "      <th>missing_ratio</th>\n",
              "    </tr>\n",
              "  </thead>\n",
              "  <tbody>\n",
              "    <tr>\n",
              "      <th>CNT_INSTALMENT_FUTURE</th>\n",
              "      <td>26087</td>\n",
              "      <td>0.002608</td>\n",
              "    </tr>\n",
              "    <tr>\n",
              "      <th>CNT_INSTALMENT</th>\n",
              "      <td>26071</td>\n",
              "      <td>0.002607</td>\n",
              "    </tr>\n",
              "    <tr>\n",
              "      <th>SK_ID_PREV</th>\n",
              "      <td>0</td>\n",
              "      <td>0.000000</td>\n",
              "    </tr>\n",
              "    <tr>\n",
              "      <th>SK_ID_CURR</th>\n",
              "      <td>0</td>\n",
              "      <td>0.000000</td>\n",
              "    </tr>\n",
              "    <tr>\n",
              "      <th>MONTHS_BALANCE</th>\n",
              "      <td>0</td>\n",
              "      <td>0.000000</td>\n",
              "    </tr>\n",
              "  </tbody>\n",
              "</table>\n",
              "</div>"
            ],
            "text/plain": [
              "                       missing_count  missing_ratio\n",
              "CNT_INSTALMENT_FUTURE          26087       0.002608\n",
              "CNT_INSTALMENT                 26071       0.002607\n",
              "SK_ID_PREV                         0       0.000000\n",
              "SK_ID_CURR                         0       0.000000\n",
              "MONTHS_BALANCE                     0       0.000000"
            ]
          },
          "metadata": {
            "tags": []
          },
          "execution_count": 41
        }
      ]
    },
    {
      "cell_type": "code",
      "metadata": {
        "id": "YSZHybJ3uwtQ",
        "colab_type": "code",
        "colab": {
          "base_uri": "https://localhost:8080/",
          "height": 204
        },
        "outputId": "84f96d10-dab7-46a7-f19e-3e2de912cf65"
      },
      "source": [
        "find_missing_entry(bureau_df).sort_values(by='missing_count', ascending=False).head()"
      ],
      "execution_count": 42,
      "outputs": [
        {
          "output_type": "execute_result",
          "data": {
            "text/html": [
              "<div>\n",
              "<style scoped>\n",
              "    .dataframe tbody tr th:only-of-type {\n",
              "        vertical-align: middle;\n",
              "    }\n",
              "\n",
              "    .dataframe tbody tr th {\n",
              "        vertical-align: top;\n",
              "    }\n",
              "\n",
              "    .dataframe thead th {\n",
              "        text-align: right;\n",
              "    }\n",
              "</style>\n",
              "<table border=\"1\" class=\"dataframe\">\n",
              "  <thead>\n",
              "    <tr style=\"text-align: right;\">\n",
              "      <th></th>\n",
              "      <th>missing_count</th>\n",
              "      <th>missing_ratio</th>\n",
              "    </tr>\n",
              "  </thead>\n",
              "  <tbody>\n",
              "    <tr>\n",
              "      <th>AMT_ANNUITY</th>\n",
              "      <td>1226791</td>\n",
              "      <td>0.714735</td>\n",
              "    </tr>\n",
              "    <tr>\n",
              "      <th>AMT_CREDIT_MAX_OVERDUE</th>\n",
              "      <td>1124488</td>\n",
              "      <td>0.655133</td>\n",
              "    </tr>\n",
              "    <tr>\n",
              "      <th>DAYS_ENDDATE_FACT</th>\n",
              "      <td>633653</td>\n",
              "      <td>0.369170</td>\n",
              "    </tr>\n",
              "    <tr>\n",
              "      <th>AMT_CREDIT_SUM_LIMIT</th>\n",
              "      <td>591780</td>\n",
              "      <td>0.344774</td>\n",
              "    </tr>\n",
              "    <tr>\n",
              "      <th>AMT_CREDIT_SUM_DEBT</th>\n",
              "      <td>257669</td>\n",
              "      <td>0.150119</td>\n",
              "    </tr>\n",
              "  </tbody>\n",
              "</table>\n",
              "</div>"
            ],
            "text/plain": [
              "                        missing_count  missing_ratio\n",
              "AMT_ANNUITY                   1226791       0.714735\n",
              "AMT_CREDIT_MAX_OVERDUE        1124488       0.655133\n",
              "DAYS_ENDDATE_FACT              633653       0.369170\n",
              "AMT_CREDIT_SUM_LIMIT           591780       0.344774\n",
              "AMT_CREDIT_SUM_DEBT            257669       0.150119"
            ]
          },
          "metadata": {
            "tags": []
          },
          "execution_count": 42
        }
      ]
    },
    {
      "cell_type": "code",
      "metadata": {
        "id": "6Hu5za7ZDpl2",
        "colab_type": "code",
        "colab": {
          "base_uri": "https://localhost:8080/",
          "height": 142
        },
        "outputId": "f047b2ea-c0bb-4354-f31c-b133932ed797"
      },
      "source": [
        "find_missing_entry(bureau_bal_df).head(12)"
      ],
      "execution_count": 43,
      "outputs": [
        {
          "output_type": "execute_result",
          "data": {
            "text/html": [
              "<div>\n",
              "<style scoped>\n",
              "    .dataframe tbody tr th:only-of-type {\n",
              "        vertical-align: middle;\n",
              "    }\n",
              "\n",
              "    .dataframe tbody tr th {\n",
              "        vertical-align: top;\n",
              "    }\n",
              "\n",
              "    .dataframe thead th {\n",
              "        text-align: right;\n",
              "    }\n",
              "</style>\n",
              "<table border=\"1\" class=\"dataframe\">\n",
              "  <thead>\n",
              "    <tr style=\"text-align: right;\">\n",
              "      <th></th>\n",
              "      <th>missing_count</th>\n",
              "      <th>missing_ratio</th>\n",
              "    </tr>\n",
              "  </thead>\n",
              "  <tbody>\n",
              "    <tr>\n",
              "      <th>SK_ID_BUREAU</th>\n",
              "      <td>0</td>\n",
              "      <td>0.0</td>\n",
              "    </tr>\n",
              "    <tr>\n",
              "      <th>MONTHS_BALANCE</th>\n",
              "      <td>0</td>\n",
              "      <td>0.0</td>\n",
              "    </tr>\n",
              "    <tr>\n",
              "      <th>STATUS</th>\n",
              "      <td>0</td>\n",
              "      <td>0.0</td>\n",
              "    </tr>\n",
              "  </tbody>\n",
              "</table>\n",
              "</div>"
            ],
            "text/plain": [
              "                missing_count  missing_ratio\n",
              "SK_ID_BUREAU                0            0.0\n",
              "MONTHS_BALANCE              0            0.0\n",
              "STATUS                      0            0.0"
            ]
          },
          "metadata": {
            "tags": []
          },
          "execution_count": 43
        }
      ]
    },
    {
      "cell_type": "code",
      "metadata": {
        "id": "6D-N30wlEDtG",
        "colab_type": "code",
        "colab": {
          "base_uri": "https://localhost:8080/",
          "height": 359
        },
        "outputId": "abf1e859-fc28-4116-9f1c-e7bacb211968"
      },
      "source": [
        "find_missing_entry(cr_card_bal_df).sort_values(by='missing_count', ascending=False).head(10)"
      ],
      "execution_count": 44,
      "outputs": [
        {
          "output_type": "execute_result",
          "data": {
            "text/html": [
              "<div>\n",
              "<style scoped>\n",
              "    .dataframe tbody tr th:only-of-type {\n",
              "        vertical-align: middle;\n",
              "    }\n",
              "\n",
              "    .dataframe tbody tr th {\n",
              "        vertical-align: top;\n",
              "    }\n",
              "\n",
              "    .dataframe thead th {\n",
              "        text-align: right;\n",
              "    }\n",
              "</style>\n",
              "<table border=\"1\" class=\"dataframe\">\n",
              "  <thead>\n",
              "    <tr style=\"text-align: right;\">\n",
              "      <th></th>\n",
              "      <th>missing_count</th>\n",
              "      <th>missing_ratio</th>\n",
              "    </tr>\n",
              "  </thead>\n",
              "  <tbody>\n",
              "    <tr>\n",
              "      <th>AMT_PAYMENT_CURRENT</th>\n",
              "      <td>767988</td>\n",
              "      <td>0.199981</td>\n",
              "    </tr>\n",
              "    <tr>\n",
              "      <th>AMT_DRAWINGS_ATM_CURRENT</th>\n",
              "      <td>749816</td>\n",
              "      <td>0.195249</td>\n",
              "    </tr>\n",
              "    <tr>\n",
              "      <th>CNT_DRAWINGS_POS_CURRENT</th>\n",
              "      <td>749816</td>\n",
              "      <td>0.195249</td>\n",
              "    </tr>\n",
              "    <tr>\n",
              "      <th>AMT_DRAWINGS_OTHER_CURRENT</th>\n",
              "      <td>749816</td>\n",
              "      <td>0.195249</td>\n",
              "    </tr>\n",
              "    <tr>\n",
              "      <th>AMT_DRAWINGS_POS_CURRENT</th>\n",
              "      <td>749816</td>\n",
              "      <td>0.195249</td>\n",
              "    </tr>\n",
              "    <tr>\n",
              "      <th>CNT_DRAWINGS_OTHER_CURRENT</th>\n",
              "      <td>749816</td>\n",
              "      <td>0.195249</td>\n",
              "    </tr>\n",
              "    <tr>\n",
              "      <th>CNT_DRAWINGS_ATM_CURRENT</th>\n",
              "      <td>749816</td>\n",
              "      <td>0.195249</td>\n",
              "    </tr>\n",
              "    <tr>\n",
              "      <th>CNT_INSTALMENT_MATURE_CUM</th>\n",
              "      <td>305236</td>\n",
              "      <td>0.079482</td>\n",
              "    </tr>\n",
              "    <tr>\n",
              "      <th>AMT_INST_MIN_REGULARITY</th>\n",
              "      <td>305236</td>\n",
              "      <td>0.079482</td>\n",
              "    </tr>\n",
              "    <tr>\n",
              "      <th>SK_ID_PREV</th>\n",
              "      <td>0</td>\n",
              "      <td>0.000000</td>\n",
              "    </tr>\n",
              "  </tbody>\n",
              "</table>\n",
              "</div>"
            ],
            "text/plain": [
              "                            missing_count  missing_ratio\n",
              "AMT_PAYMENT_CURRENT                767988       0.199981\n",
              "AMT_DRAWINGS_ATM_CURRENT           749816       0.195249\n",
              "CNT_DRAWINGS_POS_CURRENT           749816       0.195249\n",
              "AMT_DRAWINGS_OTHER_CURRENT         749816       0.195249\n",
              "AMT_DRAWINGS_POS_CURRENT           749816       0.195249\n",
              "CNT_DRAWINGS_OTHER_CURRENT         749816       0.195249\n",
              "CNT_DRAWINGS_ATM_CURRENT           749816       0.195249\n",
              "CNT_INSTALMENT_MATURE_CUM          305236       0.079482\n",
              "AMT_INST_MIN_REGULARITY            305236       0.079482\n",
              "SK_ID_PREV                              0       0.000000"
            ]
          },
          "metadata": {
            "tags": []
          },
          "execution_count": 44
        }
      ]
    },
    {
      "cell_type": "markdown",
      "metadata": {
        "id": "jeOuknVnE5pQ",
        "colab_type": "text"
      },
      "source": [
        "# Data Exploration"
      ]
    },
    {
      "cell_type": "markdown",
      "metadata": {
        "id": "kBnpKS-PU8W1",
        "colab_type": "text"
      },
      "source": [
        "# Categorical features"
      ]
    },
    {
      "cell_type": "code",
      "metadata": {
        "id": "Uu132qVXE3nk",
        "colab_type": "code",
        "colab": {}
      },
      "source": [
        "def plot_categorical(data, col, size=[8 ,4], xlabel_angle=0, title='', xtick=['Good', 'Default']):\n",
        "    '''\n",
        "    This function plots the count of categorical features\n",
        "    '''\n",
        "    plotdata = data[col].value_counts() / len(data)\n",
        "    plt.figure(figsize = size)\n",
        "    sns.barplot(x = plotdata.index, y=plotdata.values)\n",
        "    # plt.xlabel(col)\n",
        "    plt.title(title)\n",
        "    if xlabel_angle!=0: \n",
        "        plt.xticks(rotation=xlabel_angle)\n",
        "    plt.show()"
      ],
      "execution_count": 45,
      "outputs": []
    },
    {
      "cell_type": "markdown",
      "metadata": {
        "id": "MD8iqtP5T8MT",
        "colab_type": "text"
      },
      "source": [
        "# How is the distribution of labels?"
      ]
    },
    {
      "cell_type": "markdown",
      "metadata": {
        "id": "GUHsnj_r7JLO",
        "colab_type": "text"
      },
      "source": [
        "According to description of the data -1 indicates client with payment difficulties, 0 indicates all other cases."
      ]
    },
    {
      "cell_type": "code",
      "metadata": {
        "id": "33H7XcGRKIvw",
        "colab_type": "code",
        "colab": {
          "base_uri": "https://localhost:8080/",
          "height": 281
        },
        "outputId": "679650c4-22bc-4080-9d05-1809396327f5"
      },
      "source": [
        "plot_categorical(train_df, 'TARGET', xlabel_angle=0, title='Label Distribution')"
      ],
      "execution_count": 46,
      "outputs": [
        {
          "output_type": "display_data",
          "data": {
            "image/png": "[encoded data removed]",
            "text/plain": [
              "<Figure size 576x288 with 1 Axes>"
            ]
          },
          "metadata": {
            "tags": [],
            "needs_background": "light"
          }
        }
      ]
    },
    {
      "cell_type": "markdown",
      "metadata": {
        "id": "NthvxsTK66Al",
        "colab_type": "text"
      },
      "source": [
        "Very clearly the target labels are imbalanced"
      ]
    },
    {
      "cell_type": "markdown",
      "metadata": {
        "id": "VfDBKOFVTQAt",
        "colab_type": "text"
      },
      "source": [
        "# Who are major borrowers? What are their occupation?"
      ]
    },
    {
      "cell_type": "code",
      "metadata": {
        "id": "Tv-9xavIKLtW",
        "colab_type": "code",
        "colab": {
          "base_uri": "https://localhost:8080/",
          "height": 333
        },
        "outputId": "3eff387a-d0a0-45f9-eb70-8935b086acb5"
      },
      "source": [
        "plot_categorical(data=train_df, col='OCCUPATION_TYPE', size=[12 ,4], xlabel_angle=30, title='Occupation Type')"
      ],
      "execution_count": 47,
      "outputs": [
        {
          "output_type": "display_data",
          "data": {
            "image/png": "[encoded data removed]",
            "text/plain": [
              "<Figure size 864x288 with 1 Axes>"
            ]
          },
          "metadata": {
            "tags": [],
            "needs_background": "light"
          }
        }
      ]
    },
    {
      "cell_type": "markdown",
      "metadata": {
        "id": "C6GCAatNTaPe",
        "colab_type": "text"
      },
      "source": [
        "From the plot we can see Labourers are major borrower and least number of clients are IT staffs."
      ]
    },
    {
      "cell_type": "markdown",
      "metadata": {
        "id": "ZoOW4W0AUerd",
        "colab_type": "text"
      },
      "source": [
        "# What are the income types of the borrowers?"
      ]
    },
    {
      "cell_type": "code",
      "metadata": {
        "id": "SLpPes3UNydK",
        "colab_type": "code",
        "colab": {
          "base_uri": "https://localhost:8080/",
          "height": 281
        },
        "outputId": "1e7f2416-bfcc-4146-9a34-e75392548ef5"
      },
      "source": [
        "plot_categorical(data=train_df, col='NAME_INCOME_TYPE', size=[12 ,4], xlabel_angle=0, title='Income Type')"
      ],
      "execution_count": 48,
      "outputs": [
        {
          "output_type": "display_data",
          "data": {
            "image/png": "[encoded data removed]",
            "text/plain": [
              "<Figure size 864x288 with 1 Axes>"
            ]
          },
          "metadata": {
            "tags": [],
            "needs_background": "light"
          }
        }
      ]
    },
    {
      "cell_type": "markdown",
      "metadata": {
        "id": "3C87VbP4Unul",
        "colab_type": "text"
      },
      "source": [
        "# What are the living situation of the borrowers?"
      ]
    },
    {
      "cell_type": "code",
      "metadata": {
        "id": "60IAX9d_PWwd",
        "colab_type": "code",
        "colab": {
          "base_uri": "https://localhost:8080/",
          "height": 281
        },
        "outputId": "a4652143-29f2-46a0-c8c5-1d0f84abbdff"
      },
      "source": [
        "plot_categorical(data=train_df, col='NAME_HOUSING_TYPE', size=[12 ,4], xlabel_angle=0, title='House Type')"
      ],
      "execution_count": 49,
      "outputs": [
        {
          "output_type": "display_data",
          "data": {
            "image/png": "[encoded data removed]",
            "text/plain": [
              "<Figure size 864x288 with 1 Axes>"
            ]
          },
          "metadata": {
            "tags": [],
            "needs_background": "light"
          }
        }
      ]
    },
    {
      "cell_type": "markdown",
      "metadata": {
        "id": "-hlQbgDdX9Yp",
        "colab_type": "text"
      },
      "source": [
        "# Numerical Freatures"
      ]
    },
    {
      "cell_type": "code",
      "metadata": {
        "id": "ELrmh3poY5CA",
        "colab_type": "code",
        "colab": {}
      },
      "source": [
        "def plot_numerical(data, col, size=[8, 4], bins=50):\n",
        "    '''use this for ploting the distribution of numercial features'''\n",
        "    plt.figure(figsize=size)\n",
        "    plt.title(\"Distribution of %s\" % col)\n",
        "    sns.distplot(data[col].dropna(), kde=True,bins=bins)\n",
        "    plt.show()"
      ],
      "execution_count": 50,
      "outputs": []
    },
    {
      "cell_type": "markdown",
      "metadata": {
        "id": "I75njCP4vapH",
        "colab_type": "text"
      },
      "source": [
        "# How is the distribution of Credit Amaount?"
      ]
    },
    {
      "cell_type": "code",
      "metadata": {
        "id": "6KQoyLTQaEMn",
        "colab_type": "code",
        "colab": {
          "base_uri": "https://localhost:8080/",
          "height": 296
        },
        "outputId": "b5d3bae6-91e5-4b47-e46f-0bf957121d5c"
      },
      "source": [
        "plot_numerical(train_df, 'AMT_CREDIT')"
      ],
      "execution_count": 51,
      "outputs": [
        {
          "output_type": "display_data",
          "data": {
            "image/png": "[encoded data removed]",
            "text/plain": [
              "<Figure size 576x288 with 1 Axes>"
            ]
          },
          "metadata": {
            "tags": [],
            "needs_background": "light"
          }
        }
      ]
    },
    {
      "cell_type": "markdown",
      "metadata": {
        "id": "AhRg63QEwKdO",
        "colab_type": "text"
      },
      "source": [
        "The distribution looks like a right skewed normal distribution"
      ]
    },
    {
      "cell_type": "markdown",
      "metadata": {
        "id": "6bneGiQdwcGf",
        "colab_type": "text"
      },
      "source": [
        "# How is the distribution of Annuity Amount?"
      ]
    },
    {
      "cell_type": "code",
      "metadata": {
        "id": "lY7ko0xobEVp",
        "colab_type": "code",
        "colab": {
          "base_uri": "https://localhost:8080/",
          "height": 296
        },
        "outputId": "f9a6c145-12c4-4e4b-c3fa-cf1942908691"
      },
      "source": [
        "plot_numerical(train_df, 'AMT_ANNUITY')"
      ],
      "execution_count": 52,
      "outputs": [
        {
          "output_type": "display_data",
          "data": {
            "image/png": "[encoded data removed]",
            "text/plain": [
              "<Figure size 576x288 with 1 Axes>"
            ]
          },
          "metadata": {
            "tags": [],
            "needs_background": "light"
          }
        }
      ]
    },
    {
      "cell_type": "markdown",
      "metadata": {
        "id": "uUNG1ag3wiI_",
        "colab_type": "text"
      },
      "source": [
        "This distribution also looks like a right-skewed normal distribution. Most of the Annuity Amount is in between 0-50000"
      ]
    },
    {
      "cell_type": "markdown",
      "metadata": {
        "id": "XLDZrS8EwoBI",
        "colab_type": "text"
      },
      "source": [
        "# How is the distribution of number of employment days?"
      ]
    },
    {
      "cell_type": "code",
      "metadata": {
        "id": "5ICtCQCfbOMu",
        "colab_type": "code",
        "colab": {
          "base_uri": "https://localhost:8080/",
          "height": 296
        },
        "outputId": "575fa65c-6aa7-4cbe-8863-e3a9c1c9e44b"
      },
      "source": [
        "plot_numerical(train_df, 'DAYS_EMPLOYED')"
      ],
      "execution_count": 53,
      "outputs": [
        {
          "output_type": "display_data",
          "data": {
            "image/png": "[encoded data removed]",
            "text/plain": [
              "<Figure size 576x288 with 1 Axes>"
            ]
          },
          "metadata": {
            "tags": [],
            "needs_background": "light"
          }
        }
      ]
    },
    {
      "cell_type": "markdown",
      "metadata": {
        "id": "FBPXXFTs2DJ7",
        "colab_type": "text"
      },
      "source": [
        "From the data distribution we notice that the there are two peaks in the distribution, one near zero value and one when it's more that 350000. Most of the clients are with n employment."
      ]
    },
    {
      "cell_type": "markdown",
      "metadata": {
        "id": "Da8LRun8w5lf",
        "colab_type": "text"
      },
      "source": [
        "# Categorical features by Label (0/1)"
      ]
    },
    {
      "cell_type": "code",
      "metadata": {
        "id": "HSgeCKrI2-hF",
        "colab_type": "code",
        "colab": {
          "base_uri": "https://localhost:8080/",
          "height": 281
        },
        "outputId": "ef01b3f8-e481-4333-cf36-0be2a75eb26a"
      },
      "source": [
        "def plot_cat_bylabel(data, col, size=[12 ,4], xlabel_angle=0, title=''):\n",
        "    '''use it to compare the distribution between label 1 and label 0'''\n",
        "    plt.figure(figsize = size)\n",
        "    l1 = data.loc[data.TARGET==1, col].value_counts()\n",
        "    l0 = data.loc[data.TARGET==0, col].value_counts()\n",
        "    plt.subplot(1,2,1)\n",
        "    sns.barplot(x = l1.index, y=l1.values)\n",
        "    plt.title('Default: '+title)\n",
        "    plt.xticks(rotation=xlabel_angle)\n",
        "    plt.subplot(1,2,2)\n",
        "    sns.barplot(x = l0.index, y=l0.values)\n",
        "    plt.title('Non-default: '+title)\n",
        "    plt.xticks(rotation=xlabel_angle)\n",
        "    plt.show()\n",
        "\n",
        "\n",
        "plot_cat_bylabel(train_df, 'CODE_GENDER', title='Gender')"
      ],
      "execution_count": 54,
      "outputs": [
        {
          "output_type": "display_data",
          "data": {
            "image/png": "[encoded data removed]",
            "text/plain": [
              "<Figure size 864x288 with 2 Axes>"
            ]
          },
          "metadata": {
            "tags": [],
            "needs_background": "light"
          }
        }
      ]
    },
    {
      "cell_type": "markdown",
      "metadata": {
        "id": "aMxwFVw98xFC",
        "colab_type": "text"
      },
      "source": [
        "Females have relatively more difficulties in repaying the loan back (as we see in target label 1)"
      ]
    },
    {
      "cell_type": "code",
      "metadata": {
        "id": "UotFKFTm51HT",
        "colab_type": "code",
        "colab": {
          "base_uri": "https://localhost:8080/",
          "height": 517
        },
        "outputId": "aed8b00c-2538-4b35-a269-ff1ccd4eb082"
      },
      "source": [
        "plot_cat_bylabel(train_df, 'NAME_EDUCATION_TYPE', size=[15 ,6], xlabel_angle=60, title='Education Type')"
      ],
      "execution_count": 55,
      "outputs": [
        {
          "output_type": "display_data",
          "data": {
            "image/png": "[encoded data removed]",
            "text/plain": [
              "<Figure size 1080x432 with 2 Axes>"
            ]
          },
          "metadata": {
            "tags": [],
            "needs_background": "light"
          }
        }
      ]
    },
    {
      "cell_type": "markdown",
      "metadata": {
        "id": "Z_lMt5-pSmSb",
        "colab_type": "text"
      },
      "source": [
        "# Data preprocessing\n",
        "- Finding missing values"
      ]
    },
    {
      "cell_type": "code",
      "metadata": {
        "id": "OBNu4qTLSkF2",
        "colab_type": "code",
        "colab": {}
      },
      "source": [
        "def missing_columns(dataframe):\n",
        "    \"\"\"\n",
        "    Returns a dataframe that contains missing column names and \n",
        "    percent of missing values in relation to the whole dataframe.\n",
        "    \n",
        "    dataframe: dataframe that gives the column names and their % of missing values\n",
        "    \"\"\"\n",
        "    \n",
        "    # find the missing values\n",
        "    missing_values = dataframe.isnull().sum().sort_values(ascending=False)\n",
        "    \n",
        "    # percentage of missing values in relation to the overall size\n",
        "    missing_values_pct = 100 * missing_values/len(dataframe)\n",
        "    \n",
        "    # create a new dataframe which is a concatinated version\n",
        "    concat_values = pd.concat([missing_values, missing_values/len(dataframe),missing_values_pct.round(1)],axis=1)\n",
        "\n",
        "    # give new col names\n",
        "    concat_values.columns = ['Missing Count','Missing Count Ratio','Missing Count %']\n",
        "    \n",
        "    # return the required values\n",
        "    return concat_values[concat_values.iloc[:,1]!=0]"
      ],
      "execution_count": 56,
      "outputs": []
    },
    {
      "cell_type": "code",
      "metadata": {
        "id": "7d4MnMDCMQ1U",
        "colab_type": "code",
        "colab": {
          "base_uri": "https://localhost:8080/",
          "height": 419
        },
        "outputId": "3ce94bab-dc10-467c-9e30-524e3be75717"
      },
      "source": [
        "missing_columns(train_df)"
      ],
      "execution_count": 57,
      "outputs": [
        {
          "output_type": "execute_result",
          "data": {
            "text/html": [
              "<div>\n",
              "<style scoped>\n",
              "    .dataframe tbody tr th:only-of-type {\n",
              "        vertical-align: middle;\n",
              "    }\n",
              "\n",
              "    .dataframe tbody tr th {\n",
              "        vertical-align: top;\n",
              "    }\n",
              "\n",
              "    .dataframe thead th {\n",
              "        text-align: right;\n",
              "    }\n",
              "</style>\n",
              "<table border=\"1\" class=\"dataframe\">\n",
              "  <thead>\n",
              "    <tr style=\"text-align: right;\">\n",
              "      <th></th>\n",
              "      <th>Missing Count</th>\n",
              "      <th>Missing Count Ratio</th>\n",
              "      <th>Missing Count %</th>\n",
              "    </tr>\n",
              "  </thead>\n",
              "  <tbody>\n",
              "    <tr>\n",
              "      <th>COMMONAREA_MEDI</th>\n",
              "      <td>214865</td>\n",
              "      <td>0.698723</td>\n",
              "      <td>69.9</td>\n",
              "    </tr>\n",
              "    <tr>\n",
              "      <th>COMMONAREA_AVG</th>\n",
              "      <td>214865</td>\n",
              "      <td>0.698723</td>\n",
              "      <td>69.9</td>\n",
              "    </tr>\n",
              "    <tr>\n",
              "      <th>COMMONAREA_MODE</th>\n",
              "      <td>214865</td>\n",
              "      <td>0.698723</td>\n",
              "      <td>69.9</td>\n",
              "    </tr>\n",
              "    <tr>\n",
              "      <th>NONLIVINGAPARTMENTS_MODE</th>\n",
              "      <td>213514</td>\n",
              "      <td>0.694330</td>\n",
              "      <td>69.4</td>\n",
              "    </tr>\n",
              "    <tr>\n",
              "      <th>NONLIVINGAPARTMENTS_MEDI</th>\n",
              "      <td>213514</td>\n",
              "      <td>0.694330</td>\n",
              "      <td>69.4</td>\n",
              "    </tr>\n",
              "    <tr>\n",
              "      <th>...</th>\n",
              "      <td>...</td>\n",
              "      <td>...</td>\n",
              "      <td>...</td>\n",
              "    </tr>\n",
              "    <tr>\n",
              "      <th>EXT_SOURCE_2</th>\n",
              "      <td>660</td>\n",
              "      <td>0.002146</td>\n",
              "      <td>0.2</td>\n",
              "    </tr>\n",
              "    <tr>\n",
              "      <th>AMT_GOODS_PRICE</th>\n",
              "      <td>278</td>\n",
              "      <td>0.000904</td>\n",
              "      <td>0.1</td>\n",
              "    </tr>\n",
              "    <tr>\n",
              "      <th>AMT_ANNUITY</th>\n",
              "      <td>12</td>\n",
              "      <td>0.000039</td>\n",
              "      <td>0.0</td>\n",
              "    </tr>\n",
              "    <tr>\n",
              "      <th>CNT_FAM_MEMBERS</th>\n",
              "      <td>2</td>\n",
              "      <td>0.000007</td>\n",
              "      <td>0.0</td>\n",
              "    </tr>\n",
              "    <tr>\n",
              "      <th>DAYS_LAST_PHONE_CHANGE</th>\n",
              "      <td>1</td>\n",
              "      <td>0.000003</td>\n",
              "      <td>0.0</td>\n",
              "    </tr>\n",
              "  </tbody>\n",
              "</table>\n",
              "<p>67 rows × 3 columns</p>\n",
              "</div>"
            ],
            "text/plain": [
              "                          Missing Count  Missing Count Ratio  Missing Count %\n",
              "COMMONAREA_MEDI                  214865             0.698723             69.9\n",
              "COMMONAREA_AVG                   214865             0.698723             69.9\n",
              "COMMONAREA_MODE                  214865             0.698723             69.9\n",
              "NONLIVINGAPARTMENTS_MODE         213514             0.694330             69.4\n",
              "NONLIVINGAPARTMENTS_MEDI         213514             0.694330             69.4\n",
              "...                                 ...                  ...              ...\n",
              "EXT_SOURCE_2                        660             0.002146              0.2\n",
              "AMT_GOODS_PRICE                     278             0.000904              0.1\n",
              "AMT_ANNUITY                          12             0.000039              0.0\n",
              "CNT_FAM_MEMBERS                       2             0.000007              0.0\n",
              "DAYS_LAST_PHONE_CHANGE                1             0.000003              0.0\n",
              "\n",
              "[67 rows x 3 columns]"
            ]
          },
          "metadata": {
            "tags": []
          },
          "execution_count": 57
        }
      ]
    },
    {
      "cell_type": "code",
      "metadata": {
        "id": "yyHhmfFzS7NE",
        "colab_type": "code",
        "colab": {
          "base_uri": "https://localhost:8080/",
          "height": 419
        },
        "outputId": "651718f9-154f-40be-de65-bd882f903335"
      },
      "source": [
        "missing_columns(test_df)"
      ],
      "execution_count": 58,
      "outputs": [
        {
          "output_type": "execute_result",
          "data": {
            "text/html": [
              "<div>\n",
              "<style scoped>\n",
              "    .dataframe tbody tr th:only-of-type {\n",
              "        vertical-align: middle;\n",
              "    }\n",
              "\n",
              "    .dataframe tbody tr th {\n",
              "        vertical-align: top;\n",
              "    }\n",
              "\n",
              "    .dataframe thead th {\n",
              "        text-align: right;\n",
              "    }\n",
              "</style>\n",
              "<table border=\"1\" class=\"dataframe\">\n",
              "  <thead>\n",
              "    <tr style=\"text-align: right;\">\n",
              "      <th></th>\n",
              "      <th>Missing Count</th>\n",
              "      <th>Missing Count Ratio</th>\n",
              "      <th>Missing Count %</th>\n",
              "    </tr>\n",
              "  </thead>\n",
              "  <tbody>\n",
              "    <tr>\n",
              "      <th>COMMONAREA_MEDI</th>\n",
              "      <td>33495</td>\n",
              "      <td>0.687161</td>\n",
              "      <td>68.7</td>\n",
              "    </tr>\n",
              "    <tr>\n",
              "      <th>COMMONAREA_AVG</th>\n",
              "      <td>33495</td>\n",
              "      <td>0.687161</td>\n",
              "      <td>68.7</td>\n",
              "    </tr>\n",
              "    <tr>\n",
              "      <th>COMMONAREA_MODE</th>\n",
              "      <td>33495</td>\n",
              "      <td>0.687161</td>\n",
              "      <td>68.7</td>\n",
              "    </tr>\n",
              "    <tr>\n",
              "      <th>NONLIVINGAPARTMENTS_MODE</th>\n",
              "      <td>33347</td>\n",
              "      <td>0.684125</td>\n",
              "      <td>68.4</td>\n",
              "    </tr>\n",
              "    <tr>\n",
              "      <th>NONLIVINGAPARTMENTS_MEDI</th>\n",
              "      <td>33347</td>\n",
              "      <td>0.684125</td>\n",
              "      <td>68.4</td>\n",
              "    </tr>\n",
              "    <tr>\n",
              "      <th>...</th>\n",
              "      <td>...</td>\n",
              "      <td>...</td>\n",
              "      <td>...</td>\n",
              "    </tr>\n",
              "    <tr>\n",
              "      <th>OBS_60_CNT_SOCIAL_CIRCLE</th>\n",
              "      <td>29</td>\n",
              "      <td>0.000595</td>\n",
              "      <td>0.1</td>\n",
              "    </tr>\n",
              "    <tr>\n",
              "      <th>DEF_60_CNT_SOCIAL_CIRCLE</th>\n",
              "      <td>29</td>\n",
              "      <td>0.000595</td>\n",
              "      <td>0.1</td>\n",
              "    </tr>\n",
              "    <tr>\n",
              "      <th>DEF_30_CNT_SOCIAL_CIRCLE</th>\n",
              "      <td>29</td>\n",
              "      <td>0.000595</td>\n",
              "      <td>0.1</td>\n",
              "    </tr>\n",
              "    <tr>\n",
              "      <th>AMT_ANNUITY</th>\n",
              "      <td>24</td>\n",
              "      <td>0.000492</td>\n",
              "      <td>0.0</td>\n",
              "    </tr>\n",
              "    <tr>\n",
              "      <th>EXT_SOURCE_2</th>\n",
              "      <td>8</td>\n",
              "      <td>0.000164</td>\n",
              "      <td>0.0</td>\n",
              "    </tr>\n",
              "  </tbody>\n",
              "</table>\n",
              "<p>64 rows × 3 columns</p>\n",
              "</div>"
            ],
            "text/plain": [
              "                          Missing Count  Missing Count Ratio  Missing Count %\n",
              "COMMONAREA_MEDI                   33495             0.687161             68.7\n",
              "COMMONAREA_AVG                    33495             0.687161             68.7\n",
              "COMMONAREA_MODE                   33495             0.687161             68.7\n",
              "NONLIVINGAPARTMENTS_MODE          33347             0.684125             68.4\n",
              "NONLIVINGAPARTMENTS_MEDI          33347             0.684125             68.4\n",
              "...                                 ...                  ...              ...\n",
              "OBS_60_CNT_SOCIAL_CIRCLE             29             0.000595              0.1\n",
              "DEF_60_CNT_SOCIAL_CIRCLE             29             0.000595              0.1\n",
              "DEF_30_CNT_SOCIAL_CIRCLE             29             0.000595              0.1\n",
              "AMT_ANNUITY                          24             0.000492              0.0\n",
              "EXT_SOURCE_2                          8             0.000164              0.0\n",
              "\n",
              "[64 rows x 3 columns]"
            ]
          },
          "metadata": {
            "tags": []
          },
          "execution_count": 58
        }
      ]
    },
    {
      "cell_type": "markdown",
      "metadata": {
        "id": "aymqfyFDUIS3",
        "colab_type": "text"
      },
      "source": [
        "We need to handel these missing values using imputation. Unless we don't know the feature importance from domain expert we should not drop the columns directly."
      ]
    },
    {
      "cell_type": "markdown",
      "metadata": {
        "id": "PeyommaoM9vq",
        "colab_type": "text"
      },
      "source": [
        "# Check for anomolies in data"
      ]
    },
    {
      "cell_type": "markdown",
      "metadata": {
        "id": "P6Rnx-tENFir",
        "colab_type": "text"
      },
      "source": [
        "How old are the clients?"
      ]
    },
    {
      "cell_type": "code",
      "metadata": {
        "id": "lcBiWSHRM8vp",
        "colab_type": "code",
        "colab": {
          "base_uri": "https://localhost:8080/",
          "height": 179
        },
        "outputId": "3b8ae235-53e6-4e21-ad12-6c02673b69b7"
      },
      "source": [
        "(train_df['DAYS_BIRTH']/-365).describe()"
      ],
      "execution_count": 62,
      "outputs": [
        {
          "output_type": "execute_result",
          "data": {
            "text/plain": [
              "count    307511.000000\n",
              "mean         43.936973\n",
              "std          11.956133\n",
              "min          20.517808\n",
              "25%          34.008219\n",
              "50%          43.150685\n",
              "75%          53.923288\n",
              "max          69.120548\n",
              "Name: DAYS_BIRTH, dtype: float64"
            ]
          },
          "metadata": {
            "tags": []
          },
          "execution_count": 62
        }
      ]
    },
    {
      "cell_type": "markdown",
      "metadata": {
        "id": "5rPpXipWNgvi",
        "colab_type": "text"
      },
      "source": [
        "Distribution of age seems to be fine"
      ]
    },
    {
      "cell_type": "code",
      "metadata": {
        "id": "lA2tz4acNq5j",
        "colab_type": "code",
        "colab": {
          "base_uri": "https://localhost:8080/",
          "height": 279
        },
        "outputId": "279da78a-0829-4bed-aada-c70ea021fc0b"
      },
      "source": [
        "sns.distplot(train_df['DAYS_BIRTH']/-365,bins=5,kde=False)\n",
        "plt.xlabel(\"Age of the client (Years)\")\n",
        "plt.show()"
      ],
      "execution_count": 63,
      "outputs": [
        {
          "output_type": "display_data",
          "data": {
            "image/png": "[encoded data removed]",
            "text/plain": [
              "<Figure size 432x288 with 1 Axes>"
            ]
          },
          "metadata": {
            "tags": [],
            "needs_background": "light"
          }
        }
      ]
    },
    {
      "cell_type": "markdown",
      "metadata": {
        "id": "f31ZikvePJ4C",
        "colab_type": "text"
      },
      "source": [
        "People in the age range of 30-40 are the most applicants, which seems normal"
      ]
    },
    {
      "cell_type": "markdown",
      "metadata": {
        "id": "yduoww5xPdiN",
        "colab_type": "text"
      },
      "source": [
        "How many years it has been since applicants started working?\n",
        "- DAYS_EMPLOYED colum values are negative because it's relative to the time of application"
      ]
    },
    {
      "cell_type": "code",
      "metadata": {
        "id": "yKj489TrPc2h",
        "colab_type": "code",
        "colab": {
          "base_uri": "https://localhost:8080/",
          "height": 179
        },
        "outputId": "5b539d38-0129-4f19-cb62-f26f63a0a525"
      },
      "source": [
        "(train_df['DAYS_EMPLOYED']/365).describe()"
      ],
      "execution_count": 64,
      "outputs": [
        {
          "output_type": "execute_result",
          "data": {
            "text/plain": [
              "count    307511.000000\n",
              "mean        174.835742\n",
              "std         387.056895\n",
              "min         -49.073973\n",
              "25%          -7.561644\n",
              "50%          -3.323288\n",
              "75%          -0.791781\n",
              "max        1000.665753\n",
              "Name: DAYS_EMPLOYED, dtype: float64"
            ]
          },
          "metadata": {
            "tags": []
          },
          "execution_count": 64
        }
      ]
    },
    {
      "cell_type": "markdown",
      "metadata": {
        "id": "gSM5CnDTWpGX",
        "colab_type": "text"
      },
      "source": [
        "This data distribution doesn't seem to be correct, maximum value is 1000 and positive. Lets have a look at the data distribution-"
      ]
    },
    {
      "cell_type": "code",
      "metadata": {
        "id": "K1AMhcv3Uky_",
        "colab_type": "code",
        "colab": {
          "base_uri": "https://localhost:8080/",
          "height": 296
        },
        "outputId": "4238c4f8-0a71-4d51-da5b-b0e52f34f688"
      },
      "source": [
        "train_df['YEARS_EMPLOYED'] = train_df['DAYS_EMPLOYED']/365\n",
        "plot_numerical(train_df, 'YEARS_EMPLOYED')"
      ],
      "execution_count": 65,
      "outputs": [
        {
          "output_type": "display_data",
          "data": {
            "image/png": "[encoded data removed]",
            "text/plain": [
              "<Figure size 576x288 with 1 Axes>"
            ]
          },
          "metadata": {
            "tags": [],
            "needs_background": "light"
          }
        }
      ]
    },
    {
      "cell_type": "code",
      "metadata": {
        "id": "EfWhHSZmVKyK",
        "colab_type": "code",
        "colab": {
          "base_uri": "https://localhost:8080/",
          "height": 35
        },
        "outputId": "73a458ce-56cf-49dc-ca85-f251bb7b9eed"
      },
      "source": [
        "anomalies = train_df[(train_df['YEARS_EMPLOYED']>=900) & (train_df['YEARS_EMPLOYED']<=1100)]\n",
        "print('Number of anomilies in DAYS_EMPLOYED: ' + str(len(anomalies)))\n",
        "train_df = train_df.drop(columns=['YEARS_EMPLOYED'])"
      ],
      "execution_count": 66,
      "outputs": [
        {
          "output_type": "stream",
          "text": [
            "Number of anomilies in DAYS_EMPLOYED: 55374\n"
          ],
          "name": "stdout"
        }
      ]
    },
    {
      "cell_type": "markdown",
      "metadata": {
        "id": "asrY0adPq81L",
        "colab_type": "text"
      },
      "source": [
        "- Lets look at their ability to repay"
      ]
    },
    {
      "cell_type": "code",
      "metadata": {
        "id": "sMeKyZ53q8NM",
        "colab_type": "code",
        "colab": {
          "base_uri": "https://localhost:8080/",
          "height": 281
        },
        "outputId": "66527d35-7f6e-497e-be20-a9dfd92e5858"
      },
      "source": [
        "plot_categorical(anomalies, 'TARGET', xlabel_angle=0, title='Label Distribution')"
      ],
      "execution_count": 67,
      "outputs": [
        {
          "output_type": "display_data",
          "data": {
            "image/png": "[encoded data removed]",
            "text/plain": [
              "<Figure size 576x288 with 1 Axes>"
            ]
          },
          "metadata": {
            "tags": [],
            "needs_background": "light"
          }
        }
      ]
    },
    {
      "cell_type": "markdown",
      "metadata": {
        "id": "qaOX3MHOrrD5",
        "colab_type": "text"
      },
      "source": [
        "Most of the anomolies were able to repay the load on time."
      ]
    },
    {
      "cell_type": "markdown",
      "metadata": {
        "id": "mqSZKOw0sZDm",
        "colab_type": "text"
      },
      "source": [
        "Here as anomiles are having same value, one approach is to impute all of them with same values and to specify if that value is for anomolieas or not. For this, we can impute the amonolies with NaN and then set a flag to specify if it is an anomoly or not."
      ]
    },
    {
      "cell_type": "code",
      "metadata": {
        "id": "IrDVUhcrtddJ",
        "colab_type": "code",
        "colab": {}
      },
      "source": [
        "# Create an anomalous flag column\n",
        "train_df['DAYS_EMPLOYED_ANOM'] = train_df[\"DAYS_EMPLOYED\"] == 365243\n",
        "\n",
        "# Replace the anomalous values with nan\n",
        "train_df['DAYS_EMPLOYED'] = train_df['DAYS_EMPLOYED'].replace({365243: np.nan})"
      ],
      "execution_count": 68,
      "outputs": []
    },
    {
      "cell_type": "markdown",
      "metadata": {
        "id": "fMNuMWkMugAj",
        "colab_type": "text"
      },
      "source": [
        "- Now if we look at the data distribution of Years of Employment then it looks normal"
      ]
    },
    {
      "cell_type": "code",
      "metadata": {
        "id": "udPzRq6wuNt5",
        "colab_type": "code",
        "colab": {
          "base_uri": "https://localhost:8080/",
          "height": 296
        },
        "outputId": "a83d2ddb-37e2-4e0e-c7df-c165553ce272"
      },
      "source": [
        "train_df['YEARS_EMPLOYED'] = train_df['DAYS_EMPLOYED']/365\n",
        "plot_numerical(train_df, 'YEARS_EMPLOYED')"
      ],
      "execution_count": 69,
      "outputs": [
        {
          "output_type": "display_data",
          "data": {
            "image/png": "[encoded data removed]",
            "text/plain": [
              "<Figure size 576x288 with 1 Axes>"
            ]
          },
          "metadata": {
            "tags": [],
            "needs_background": "light"
          }
        }
      ]
    },
    {
      "cell_type": "code",
      "metadata": {
        "id": "I_ikQRsevL3L",
        "colab_type": "code",
        "colab": {}
      },
      "source": [
        "# Create an anomalous flag column\n",
        "test_df['DAYS_EMPLOYED_ANOM'] = test_df[\"DAYS_EMPLOYED\"] == 365243\n",
        "\n",
        "# Replace the anomalous values with nan\n",
        "test_df['DAYS_EMPLOYED'] = test_df['DAYS_EMPLOYED'].replace({365243: np.nan})"
      ],
      "execution_count": 70,
      "outputs": []
    },
    {
      "cell_type": "markdown",
      "metadata": {
        "id": "hek2u78EdR7z",
        "colab_type": "text"
      },
      "source": [
        "EXT_SOURCE_3, EXT_SOURCE_2, EXT_SOURCE_1, DAYS_BIRTH are highly correlated. We would like to use these as interactio variables then keep the most correlated features for our feature engineering."
      ]
    }
  ]
}